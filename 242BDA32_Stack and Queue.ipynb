{
 "cells": [
  {
   "cell_type": "markdown",
   "id": "28733f1f-23d3-4814-94f4-484d2a70b6ab",
   "metadata": {},
   "source": [
    "# STACK"
   ]
  },
  {
   "cell_type": "code",
   "execution_count": 1,
   "id": "59a2cb1a-0f37-4c2b-bd2c-c95fc4cae368",
   "metadata": {},
   "outputs": [
    {
     "name": "stdout",
     "output_type": "stream",
     "text": [
      "The Stack items are:\n",
      "99\n",
      "999\n",
      "9999\n"
     ]
    }
   ],
   "source": [
    "\"\"\"\n",
    "Stack using push()\n",
    "Date = 28/08/24\n",
    "Nevil K Benny\n",
    "\"\"\"\n",
    "\n",
    "\n",
    "# Define the push function\n",
    "def push(stack, element):\n",
    "    stack.append(element)\n",
    "\n",
    "# Create an empty stack\n",
    "stack = []\n",
    "\n",
    "# Push elements into the stack using the push function\n",
    "push(stack, 99)\n",
    "push(stack, 999)\n",
    "push(stack, 9999)\n",
    "\n",
    "# Print the stack items\n",
    "print(\"The Stack items are:\")\n",
    "for i in stack:\n",
    "    print(i)"
   ]
  },
  {
   "cell_type": "code",
   "execution_count": 2,
   "id": "5895ae4f-7a94-4364-a35c-d298807b1b03",
   "metadata": {},
   "outputs": [
    {
     "name": "stdout",
     "output_type": "stream",
     "text": [
      "Initial Stack\n",
      "[9, 99, 999]\n",
      "Popped Element:  999\n"
     ]
    }
   ],
   "source": [
    "\"\"\"\n",
    "Stack using pop()\n",
    "Date = 28/08/24\n",
    "Nevil K Benny\n",
    "\"\"\"\n",
    "stack = []\n",
    " \n",
    "def pop(stack):\n",
    "    if len(stack) == 0:\n",
    "        return None\n",
    "    else:\n",
    "        return stack.pop()\n",
    " \n",
    "# Pushing the elements in the list\n",
    "stack.append(9)\n",
    "stack.append(99)\n",
    "stack.append(999)\n",
    " \n",
    "print(\"Initial Stack\")\n",
    "print(stack)\n",
    " \n",
    "print(\"Popped Element: \", pop(stack))"
   ]
  },
  {
   "cell_type": "code",
   "execution_count": 3,
   "id": "704829dd-6c4a-4a3d-8aa2-90820c662183",
   "metadata": {},
   "outputs": [
    {
     "name": "stdout",
     "output_type": "stream",
     "text": [
      "Elements of the Stack are  [9, 99, 999]\n",
      "Top Element of Stack is :  999\n"
     ]
    }
   ],
   "source": [
    "\"\"\"\n",
    "Stack using top()\n",
    "Date = 28/08/24\n",
    "Nevil K Benny\n",
    "\"\"\"\n",
    "stack = []\n",
    " \n",
    "def top():\n",
    "    if len(stack) == 0:  #It checks whether the stack is empty and if it is empty then it returns none \n",
    "        return None\n",
    "    else:\n",
    "        return stack[-1] #If it is not empty it will return last element\n",
    " \n",
    " \n",
    "# Pushing the elements in the list\n",
    "stack.append(9)\n",
    "stack.append(99)\n",
    "stack.append(999)\n",
    "\n",
    "print(\"Elements of the Stack are \",stack)\n",
    "print(\"Top Element of Stack is : \", top())"
   ]
  },
  {
   "cell_type": "code",
   "execution_count": 20,
   "id": "1bde84b9-a9d9-4f24-b991-8963aca58db3",
   "metadata": {},
   "outputs": [
    {
     "name": "stdout",
     "output_type": "stream",
     "text": [
      "0\n"
     ]
    }
   ],
   "source": [
    "\"\"\"\n",
    "Stack using empty()\n",
    "Date = 28/08/24\n",
    "Nevil K Benny\n",
    "\"\"\"\n",
    "stack = []\n",
    "def is_empty():\n",
    "    if len(stack) == 0:\n",
    "        return 1\n",
    "    else:\n",
    "        return 0\n",
    "\n",
    "# Pushing the elements in the list\n",
    "stack.append(9)\n",
    "stack.append(99)\n",
    "stack.append(999)\n",
    " \n",
    "print( is_empty())\n",
    " \n",
    " \n"
   ]
  },
  {
   "cell_type": "markdown",
   "id": "041fc8b2-8d10-48b2-ac73-b21ce3afdef3",
   "metadata": {},
   "source": [
    "# QUEUE"
   ]
  },
  {
   "cell_type": "code",
   "execution_count": 25,
   "id": "d2b2940f-eee4-401b-bd4d-223b7b204a5f",
   "metadata": {},
   "outputs": [
    {
     "name": "stdout",
     "output_type": "stream",
     "text": [
      "9\n",
      "99\n",
      "999\n",
      "9999\n"
     ]
    }
   ],
   "source": [
    "\"\"\"\n",
    "QUEUE\n",
    "Date = 28/08/24\n",
    "Nevil K Benny\n",
    "\"\"\"\n",
    "\n",
    "class Queue(object): #Implementation of a queue in python.\n",
    "    \n",
    "    queue_data = [] # Empty list to store the data for the queue.\n",
    "\n",
    "    def push(self, value:object)->None:\n",
    "        \"\"\"\n",
    "            Pushes/adds a value to end of the queue.\n",
    "            1. value - object - A value of any datatype that needs to be stored\n",
    "            in the queue.\n",
    "        \"\"\"\n",
    "        self.queue_data.append(value)\n",
    "    \n",
    "    def pop(self)->None: #  Pops/removes a value from the end of the queue.\n",
    "       \n",
    "        self.queue_data.pop(0)\n",
    "\n",
    "    def display_queue(self)->None: #Displays the elements present in the queue by printing each element.\n",
    "       \n",
    "        for value in self.queue_data:\n",
    "            print(value)\n",
    "\n",
    "\n",
    "def main():\n",
    "    \"\"\"\n",
    "        The main function of the program.\n",
    "    \"\"\"\n",
    "    queue_obj = Queue() # Creating the queue object.\n",
    "    queue_obj.display_queue() # Seeing the contents of the queue.\n",
    "    # Adding values to the queue:\n",
    "    queue_obj.push(9)\n",
    "    queue_obj.push(99)\n",
    "    queue_obj.push(999)\n",
    "    queue_obj.push(9999)\n",
    "    queue_obj.display_queue() # Seeing the contents of the queue.\n",
    "    queue_obj.pop() # Poping a value from the queue.\n",
    "    queue_obj.pop() # Poping a value from the queue.\n",
    "    return None\n",
    "\n",
    "\n",
    "if __name__ == \"__main__\":\n",
    "    main()"
   ]
  },
  {
   "cell_type": "code",
   "execution_count": null,
   "id": "a0d8aea1-7e5a-49db-9381-8a0678e81f1d",
   "metadata": {},
   "outputs": [],
   "source": []
  }
 ],
 "metadata": {
  "kernelspec": {
   "display_name": "Python 3 (ipykernel)",
   "language": "python",
   "name": "python3"
  },
  "language_info": {
   "codemirror_mode": {
    "name": "ipython",
    "version": 3
   },
   "file_extension": ".py",
   "mimetype": "text/x-python",
   "name": "python",
   "nbconvert_exporter": "python",
   "pygments_lexer": "ipython3",
   "version": "3.12.4"
  }
 },
 "nbformat": 4,
 "nbformat_minor": 5
}
