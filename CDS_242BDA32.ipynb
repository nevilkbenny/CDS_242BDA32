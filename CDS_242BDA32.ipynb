{
 "cells": [
  {
   "cell_type": "code",
   "execution_count": 3,
   "id": "313a873e-d840-4679-8397-02cce104244d",
   "metadata": {},
   "outputs": [],
   "source": [
    "#Defining function\n",
    "def linearoperation(num, array):\n",
    "    for i in range(len(array)):\n",
    "        if(num==array[i]):\n",
    "            print(\"Value found at\",i)\n",
    "        else:\n",
    "            return 0\n",
    "    "
   ]
  },
  {
   "cell_type": "code",
   "execution_count": 7,
   "id": "cf756237-dc56-4d98-b2ec-fe7949130b9f",
   "metadata": {},
   "outputs": [
    {
     "name": "stdin",
     "output_type": "stream",
     "text": [
      "Enter the number of digits to be entered :  6\n",
      " 1\n",
      " 2\n",
      " 3\n",
      " 4\n",
      " 5\n",
      " 6\n"
     ]
    },
    {
     "name": "stdout",
     "output_type": "stream",
     "text": [
      "['1', '2', '3', '4', '5', '6']\n"
     ]
    },
    {
     "name": "stdin",
     "output_type": "stream",
     "text": [
      "Enter the number you want to search:  4\n"
     ]
    },
    {
     "data": {
      "text/plain": [
       "0"
      ]
     },
     "execution_count": 7,
     "metadata": {},
     "output_type": "execute_result"
    }
   ],
   "source": [
    "array = [] #Calling array\n",
    "Number_of_digit = int(input(\"Enter the number of digits to be entered : \")) #Number of digits to be included in list\n",
    "for i in range(1,Number_of_digit+1):\n",
    "    y = input()\n",
    "    array.append(y) #Adding elements to list\n",
    "print(array)\n",
    "num = input(\"Enter the number you want to search: \") #Specifying the number to be searched\n",
    "\n",
    "\n",
    "linearoperation(num, array) #Calling function\n",
    "\n"
   ]
  },
  {
   "cell_type": "code",
   "execution_count": null,
   "id": "2d0db85f-8c33-4d4e-9c70-b28742a480b7",
   "metadata": {},
   "outputs": [],
   "source": []
  }
 ],
 "metadata": {
  "kernelspec": {
   "display_name": "Python 3 (ipykernel)",
   "language": "python",
   "name": "python3"
  },
  "language_info": {
   "codemirror_mode": {
    "name": "ipython",
    "version": 3
   },
   "file_extension": ".py",
   "mimetype": "text/x-python",
   "name": "python",
   "nbconvert_exporter": "python",
   "pygments_lexer": "ipython3",
   "version": "3.12.4"
  }
 },
 "nbformat": 4,
 "nbformat_minor": 5
}
