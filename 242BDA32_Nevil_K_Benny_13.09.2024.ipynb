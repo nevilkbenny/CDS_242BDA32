{
 "cells": [
  {
   "cell_type": "code",
   "execution_count": 1,
   "id": "b89e996f-fe16-462e-bc66-2a50e1800cb0",
   "metadata": {},
   "outputs": [
    {
     "name": "stdin",
     "output_type": "stream",
     "text": [
      "Enter the first number:  30\n",
      "Enter the second number:  50\n"
     ]
    },
    {
     "name": "stdout",
     "output_type": "stream",
     "text": [
      "Product of 30 and 50 is 1500\n"
     ]
    }
   ],
   "source": [
    "\"\"\"\n",
    "Algorithm Name: Program to find multpication using addition operator\n",
    "Author: Nevil K Benny\n",
    "Date: 13-09-2024\n",
    "\"\"\"\n",
    "\n",
    "#Define a class Multiplier to perform multiplication operation\n",
    "class Multiplier:\n",
    "\n",
    "    #Initializing the Multiplier class with two variables x and y to store values\n",
    "    def __init__(self, x, y):\n",
    "        self.x = x\n",
    "        self.y = y\n",
    "    \n",
    "    #Multiplies x and y using repeated addition\n",
    "    def multiply(self):\n",
    "        result = 0\n",
    "        for idx in range(abs(self.y)):\n",
    "            result += abs(self.x)\n",
    "        if (self.x < 0 and self.y > 0) or (self.x > 0 and self.y < 0):\n",
    "            result *= -1\n",
    "        return result\n",
    "\n",
    "#Getting numbers from the user\n",
    "num1 = int(input(\"Enter the first number: \"))\n",
    "num2 = int(input(\"Enter the second number: \"))\n",
    "\n",
    "#Creating an instance of Multiplier class\n",
    "multiplier = Multiplier(num1,num2)\n",
    "\n",
    "#Calling multiply method\n",
    "product = multiplier.multiply()\n",
    "\n",
    "#Printing the final product result\n",
    "print(f\"Product of {num1} and {num2} is {product}\")"
   ]
  },
  {
   "cell_type": "code",
   "execution_count": null,
   "id": "1df48c3c-7168-4b69-abf3-e5caee449195",
   "metadata": {},
   "outputs": [],
   "source": []
  }
 ],
 "metadata": {
  "kernelspec": {
   "display_name": "Python 3 (ipykernel)",
   "language": "python",
   "name": "python3"
  },
  "language_info": {
   "codemirror_mode": {
    "name": "ipython",
    "version": 3
   },
   "file_extension": ".py",
   "mimetype": "text/x-python",
   "name": "python",
   "nbconvert_exporter": "python",
   "pygments_lexer": "ipython3",
   "version": "3.12.4"
  }
 },
 "nbformat": 4,
 "nbformat_minor": 5
}
